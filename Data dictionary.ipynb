{
 "cells": [
  {
   "cell_type": "markdown",
   "id": "96080ef6",
   "metadata": {},
   "source": [
    "## Diccionario de datos"
   ]
  },
  {
   "cell_type": "markdown",
   "id": "6e5087bc",
   "metadata": {},
   "source": [
    "Para obtener información de la violencia hacia la mujer se utilizo la base de datos [\"The Gender, Institutions and Development Database (GID-DB)\"](https://stats.oecd.org/viewhtml.aspx?datasetcode=GIDDB2019&lang=en#) con datos del año 2019 publicado por la [Organización para la Cooperación y el Desarrollo Económicos (OCDE)](https://www.oecd.org/) incluyendo a 180 paises y territorios, incluyendo información de practicas legales, culturales y tradicionales que discriminan a las mujeres y niñas.\n"
   ]
  },
  {
   "attachments": {},
   "cell_type": "markdown",
   "id": "a358d951",
   "metadata": {},
   "source": [
    "Nombre | Descripción\n",
    "------|--------\n",
    "RPI_FGM_ATT| Percentage of women aged 15-49 years who have heard about FGM and think the practice should continue\n",
    "RPI_FGM_LAW|**0:** The legal framework protects women and girls from FGM. Customary, religious and traditional laws or practices do not encourage the practice. **0.25:** The legal framework protects women and girls from FGM. Some customary, religious and traditional laws or practices encourage the practice but the law takes precedence over these laws or practices. **0.5:** The legal framework protects women and girls from FGM. Some customary, religious and traditional laws or practices encourage the practice and the law does not take precedence over these laws or practices. **0.75:** The legal framework protects women and girls from FGM but does not foresee criminal penalties for all types of practitioners of FGM. **1:** The legal framework does not protect women and girls from FGM.\n",
    "RPI_FGM_PRACT| Percentage of women aged 15-49 years who have undergone FGM\n",
    "RPI_MW_PRACT| Sex ratio (number of males per 100 females) for the age group 0-4. (Measures whether the population has a preference for sons over daughters)\n",
    "RPI_RA_LAW|**0:** The legal framework protects women’s reproductive health and rights in case of unwanted pregnancy, without any justifications. **0.25:** The legal framework protects women’s reproductive health and rights in case of unwanted pregnancy, but requires justifications. **0.5:** The legal framework only protects women’s reproductive health and rights in case of unwanted pregnancy with some justifications. **0.75:** The legal framework only protects women’s reproductive health and rights in case of unwanted pregnancy with strict justifications. **1:** The legal framework does not protect women’s reproductive health and rights in case of unwanted pregnancy.\n",
    "RPI_RA_PRACT| Percentage of currently married or in-union women of reproductive age (15-49) who want to stop or delay childbearing but are not using any method of contraception\n",
    "RPI_VAW_ATT|Percentage of women aged 15–49 years who consider a husband to be justified in hitting or beating his wife for at least one of the specified reasons, i.e., if his wife burns the food, argues with him, goes out without telling him, neglects the children or refuses sexual relations\n",
    "RPI_VAW_LAW|**0:** The legal framework protects women from violence including intimate partner violence, rape and sexual harassment, without any legal exceptions and in a comprehensive approach. **0.25:** The legal framework protects women from violence including intimate partner violence, rape and sexual harassment, without any legal exceptions. However, the approach is not comprehensive. **0.5:** The legal framework protects women from violence including intimate partner violence, rape and sexual harassment. However, some legal exceptions occur. **0.75:** The legal framework protects women from some forms of violence including intimate partner violence, rape or sexual harassment but not all. 1: The legal framework does not protect women from violence nor intimate partner violence nor rape and sexual harassment.\n",
    "RPI_VAW_PRACT| Percentage of ever-partnered women who ever suffered intimate partner physical and/or sexual violence"
   ]
  },
  {
   "cell_type": "markdown",
   "id": "c17da21c",
   "metadata": {},
   "source": [
    "La comlumna INC se refiere a la clasificacion por nivel de ingresio del pais"
   ]
  },
  {
   "cell_type": "markdown",
   "id": "e24c5070",
   "metadata": {},
   "source": [
    "INC | Descripción\n",
    "---------|---------------\n",
    "LWI | Low income\n",
    "LOI| Lower middle income\n",
    "UMI| Upper middle income\n",
    "HIN| High income"
   ]
  },
  {
   "cell_type": "markdown",
   "id": "a076b02d",
   "metadata": {},
   "source": [
    "\n",
    "\n",
    "La información económica de los paises se recabo del [World Economic Outlook Database](https://www.imf.org/en/Publications/WEO/weo-database/2021/October) del [Fondo Monetario Internacional](https://www.imf.org/en/Home), tomando los datos del año 2019 para comparar con los datos de violencia hacia la mujer."
   ]
  },
  {
   "attachments": {},
   "cell_type": "markdown",
   "id": "235a9978",
   "metadata": {},
   "source": [
    "Nombre | Descripción | Unidades | Escala\n",
    "-------|--------------|----------|------\n",
    "NGDP_R\t|Expressed in billions of national currency units; the base year is country-specific. Expenditure-based GDP is total final expenditures at purchasers' prices (including the f.o.b. value of exports of goods and services), less the f.o.b. value of imports of goods and services. [SNA 1993]\t|National currency\t|Billions\n",
    "NGDP_RPCH|\tAnnual percentages of constant price GDP are year-on-year changes; the base year is country-specific. Expenditure-based GDP is total final expenditures at purchasers' prices (including the f.o.b. value of exports of goods and services), less the f.o.b. value of imports of goods and services. [SNA 1993]\t|Percent change\t\n",
    "NGDP|\tExpressed in billions of national currency units. Expenditure-based GDP is total final expenditures at purchasers' prices (including the f.o.b. value of exports of goods and services), less the f.o.b. value of imports of goods and services. [SNA 1993]\t|National currency\t|Billions\n",
    "NGDPD\t|Values are based upon GDP in national currency converted to U.S. dollars using market exchange rates (yearly average). Exchange rate projections are provided by country economists for the group of other emerging market and developing countries. Exchanges rates for advanced economies are established in the WEO assumptions for each WEO exercise. Expenditure-based GDP is total final expenditures at purchasers' prices (including the f.o.b. value of exports of goods and services), less the f.o.b. value of imports of goods and services. [SNA 1993]|\tU.S. dollars\t|Billions\n",
    "PPPGDP|\tThese data form the basis for the country weights used to generate the World Economic Outlook country group composites for the domestic economy.   The IMF is not a primary source for purchasing power parity (PPP) data. WEO weights have been created from primary sources and are used solely for purposes of generating country group composites. For primary source information, please refer to one of the following sources: the Organization for Economic Cooperation and Development, the World Bank, or the Penn World Tables.   For further information see Box 1.1 in the October 2020 World Economic Outlook, \"Revised Purchasing Power Parity Weights\" in the July 2014 WEO Update, Box A2 in the April 2004 World Economic Outlook, Box A1 in the May 2000 World Economic Outlook, and Annex IV in the May 1993 World Economic Outlook for summaries of the revised PPP-based weights; and Box 1.2 in the September 2003 World Economic Outlook for a discussion on the measurement of global growth. See also Anne Marie Gulde and Marianne Schulze-Ghattas, Purchasing Power Parity Based Weights for the World Economic Outlook, in Staff Studies for the World Economic Outlook (Washington: IMF, December 1993), pp. 106-23.\t|Purchasing power parity; international dollars\t|Billions\n",
    "NGDP_D\t|The GDP deflator is derived by dividing current price GDP by constant price GDP and is considered to be an alternate measure of inflation. Data are expressed in the base year of each country's national accounts.\t|Index||\n",
    "NGDPRPC|\tGDP is expressed in constant national currency per person. Data are derived by dividing constant price GDP by total population.|\tNational currency|\tUnits\n",
    "NGDPRPPPPC|\tGDP is expressed in constant international dollars per person. Data are derived by dividing constant price purchasing-power parity (PPP) GDP by total population.\t|Purchasing power parity; 2017 international dollar|\tUnits\n",
    "NGDPPC|\tGDP is expressed in current national currency per person. Data are derived by dividing current price GDP by total population.\t|National currency\t|Units\n",
    "NGDPDPC|\tGDP is expressed in current U.S. dollars per person. Data are derived by first converting GDP in national currency to U.S. dollars and then dividing it by total population.\t|U.S. dollars\t|Units\n",
    "PPPPC|\tExpressed in GDP in PPP dollars per person. Data are derived by dividing GDP in PPP dollars by total population. These data form the basis for the country weights used to generate the World Economic Outlook country group composites for the domestic economy.   The IMF is not a primary source for purchasing power parity (PPP) data. WEO weights have been created from primary sources and are used solely for purposes of generating country group composites. For primary source information, please refer to one of the following sources: the Organization for Economic Cooperation and Development, the World Bank, or the Penn World Tables.  For further information see Box 1.1 in the October 2020 World Economic Outlook, \"Revised Purchasing Power Parity Weights\" in the July 2014 WEO Update, Box A2 in the April 2004 World Economic Outlook, Box A1 in the May 2000 World Economic Outlook, and Annex IV in the May 1993 World Economic Outlook for summaries of the revised PPP-based weights; and Box 1.2 in the September 2003 World Economic Outlook for a discussion on the measurement of global growth. See also Anne Marie Gulde and Marianne Schulze-Ghattas, Purchasing Power Parity Based Weights for the World Economic Outlook, in Staff Studies for the World Economic Outlook (Washington: IMF, December 1993), pp. 106-23.\t|Purchasing power parity; international dollars\t|Units\n",
    "NGAP_NPGDP|\tOutput gaps for advanced economies are calculated as actual GDP less potential GDP as a percent of potential GDP. Estimates of output gaps are subject to a significant margin of uncertainty. For a discussion of approaches to calculating potential output, see Paula R. De Masi, IMF Estimates of Potential Output: Theory and Practice, in Staff Studies for the World Economic Outlook (Washington: IMF, December 1997), pp. 40-46.\t|Percent of potential GDP|\t|\n",
    "PPPSH|\tExpressed in percent of world GDP in PPP dollars. These data form the basis for the country weights used to generate the World Economic Outlook country group composites for the domestic economy.   The IMF is not a primary source for purchasing power parity (PPP) data. WEO weights have been created from primary sources and are used solely for purposes of generating country group composites. For primary source information, please refer to one of the following sources: the Organization for Economic Cooperation and Development, the World Bank, or the Penn World Tables.  For further information see Box 1.1 in the October 2020 World Economic Outlook, \"Revised Purchasing Power Parity Weights\" in the July 2014 WEO Update, Box A2 in the April 2004 World Economic Outlook, Box A1 in the May 2000 World Economic Outlook, and Annex IV in the May 1993 World Economic Outlook for summaries of the revised PPP-based weights; and Box 1.2 in the September 2003 World Economic Outlook for a discussion on the measurement of global growth. See also Anne Marie Gulde and Marianne Schulze-Ghattas, Purchasing Power Parity Based Weights for the World Economic Outlook, in Staff Studies for the World Economic Outlook (Washington: IMF, December 1993), pp. 106-23.\t|Percent||\n",
    "PPPEX|\tExpressed in national currency per current international dollar. These data form the basis for the country weights used to generate the World Economic Outlook country group composites for the domestic economy.   The IMF is not a primary source for purchasing power parity (PPP) data. WEO weights have been created from primary sources and are used solely for purposes of generating country group composites. For primary source information, please refer to one of the following sources: the Organization for Economic Cooperation and Development, the World Bank, or the Penn World Tables.  For further information see Box 1.1 in the October 2020 World Economic Outlook, \"Revised Purchasing Power Parity Weights\" in the July 2014 WEO Update, Box A2 in the April 2004 World Economic Outlook, Box A1 in the May 2000 World Economic Outlook, and Annex IV in the May 1993 World Economic Outlook for summaries of the revised PPP-based weights; and Box 1.2 in the September 2003 World Economic Outlook for a discussion on the measurement of global growth. See also Anne Marie Gulde and Marianne Schulze-Ghattas, Purchasing Power Parity Based Weights for the World Economic Outlook, in Staff Studies for the World Economic Outlook (Washington: IMF, December 1993), pp. 106-23.\t|National currency per current international dollar||\t\n",
    "NID_NGDP|\tExpressed as a ratio of total investment in current local currency and GDP in current local currency. Investment or gross capital formation is measured by the total value of the gross fixed capital formation and changes in inventories and acquisitions less disposals of valuables for a unit or sector. [SNA 1993]\t|Percent of GDP\t||\n",
    "NGSD_NGDP|\tExpressed as a ratio of gross national savings in current local currency and GDP in current local currency. Gross national saving is gross disposable income less final consumption expenditure after taking account of an adjustment for pension funds. [SNA 1993] For many countries, the estimates of national saving are built up from national accounts data on gross domestic investment and from balance of payments-based data on net foreign investment.\t|Percent of GDP\t||\n",
    "PCPI|\tExpressed in averages for the year, not end-of-period data. A consumer price index (CPI) measures changes in the prices of goods and services that households consume. Such changes affect the real purchasing power of consumers' incomes and their welfare. As the prices of different goods and services do not all change at the same rate, a price index can only reflect their average movement. A price index is typically assigned a value of unity, or 100, in some reference period and the values of the index for other periods of time are intended to indicate the average proportionate, or percentage, change in prices from this price reference period. Price indices can also be used to measure differences in price levels between different cities, regions or countries at the same point in time. [CPI Manual 2004, Introduction] For euro countries, consumer prices are calculated based on harmonized prices. For more information see http://epp.eurostat.ec.europa.eu/cache/ITY_OFFPUB/KS-BE-04-001/EN/KS-BE-04-001-EN.PDF.]\t|Index\t||\n",
    "PCPIPCH|\tAnnual percentages of average consumer prices are year-on-year changes.\t|Percent change\t||\n",
    "PCPIE|\tExpressed in end of the period, not annual average data. A consumer price index (CPI) measures changes in the prices of goods and services that households consume. Such changes affect the real purchasing power of consumers' incomes and their welfare. As the prices of different goods and services do not all change at the same rate, a price index can only reflect their average movement. A price index is typically assigned a value of unity, or 100, in some reference period and the values of the index for other periods of time are intended to indicate the average proportionate, or percentage, change in prices from this price reference period. Price indices can also be used to measure differences in price levels between different cities, regions or countries at the same point in time. [CPI Manual 2004, Introduction] For euro countries, consumer prices are calculated based on harmonized prices. For more information see http://epp.eurostat.ec.europa.eu/cache/ITY_OFFPUB/KS-BE-04-001/EN/KS-BE-04-001-EN.PDF.\t|Index\t||\n",
    "PCPIEPCH|\tAnnual percentages of end of period consumer prices are year-on-year changes.\t|Percent change\t||\n",
    "TM_RPCH|\tPercent change of volume of imports refers to the aggregate change in the quantities of total imports whose characteristics are unchanged. The goods and services and their prices are held constant, therefore changes are due to changes in quantities only. [Export and Import Price Index Manual: Theory and Practice, Glossary]\t|Percent change||\t\n",
    "TMG_RPCH|\tPercent change of volume of imports of goods refers to the aggregate change in the quantities of imports of goods whose characteristics are unchanged. The goods and their prices are held constant, therefore changes are due to changes in quantities only. [Export and Import Price Index Manual: Theory and Practice, Glossary]\t|Percent change\t||\n",
    "TX_RPCH|\tPercent change of volume of exports refers to the aggregate change in the quantities of total exports whose characteristics are unchanged. The goods and services and their prices are held constant, therefore changes are due to changes in quantities only. [Export and Import Price Index Manual: Theory and Practice, Glossary]\t|Percent change||\t\n",
    "TXG_RPCH|\tPercent change of volume of exports of goods refers to the aggregate change in the quantities of exports of goods whose characteristics are unchanged. The goods and their prices are held constant, therefore changes are due to changes in quantities only. [Export and Import Price Index Manual: Theory and Practice, Glossary]\t|Percent change||\t\n",
    "LUR|\tUnemployment rate can be defined by either the national definition, the ILO harmonized definition, or the OECD harmonized definition. The OECD harmonized unemployment rate gives the number of unemployed persons as a percentage of the labor force (the total number of people employed plus unemployed). [OECD Main Economic Indicators, OECD, monthly] As defined by the International Labour Organization, unemployed workers are those who are currently not working but are willing and able to work for pay, currently available to work, and have actively searched for work. [ILO, http://www.ilo.org/public/english/bureau/stat/res/index.htm]\t|Percent of total labor force||\t\n",
    "LE|\tEmployment can be defined by either the national definition, the ILO harmonized definition, or the OECD harmonized definition. Persons who during a specified brief period such as one week or one day, (a) performed some work for wage or salary in cash or in kind, (b) had a formal attachment to their job but were temporarily not at work during the reference period, (c) performed some work for profit or family gain in cash or in kind, (d) were with an enterprise such as a business, farm or service but who were temporarily not at work during the reference period for any specific reason. [Current International Recommendations on Labour Statistics, 1988 Edition, ILO, Geneva, page 47]\t|Persons\t|Millions\n",
    "LP|\tFor census purposes, the total population of the country consists of all persons falling within the scope of the census. In the broadest sense, the total may comprise either all usual residents of the country or all persons present in the country at the time of the census. [Principles and Recommendations for Population and Housing Censuses, Revision 1, paragraph 2.42]\t|Persons\t|Millions\n",
    "GGR|\tRevenue consists of taxes, social contributions, grants receivable, and other revenue. Revenue increases government's net worth, which is the difference between its assets and liabilities (GFSM 2001, paragraph 4.20). Note: Transactions that merely change the composition of the balance sheet do not change the net worth position, for example, proceeds from sales of nonfinancial and financial assets or incurrence of liabilities.\t|National currency\t|Billions\n",
    "GGR_NGDP|\tRevenue consists of taxes, social contributions, grants receivable, and other revenue. Revenue increases government's net worth, which is the difference between its assets and liabilities (GFSM 2001, paragraph 4.20). Note: Transactions that merely change the composition of the balance sheet do not change the net worth position, for example, proceeds from sales of nonfinancial and financial assets or incurrence of liabilities.\t|Percent of GDP||\t\n",
    "GGX|\tTotal expenditure consists of total expense and the net acquisition of nonfinancial assets. Note: Apart from being on an accrual basis, total expenditure differs from the GFSM 1986 definition of total expenditure in the sense that it also takes the disposals of nonfinancial assets into account.|\tNational currency\t|Billions\n",
    "GGX_NGDP|\tTotal expenditure consists of total expense and the net acquisition of nonfinancial assets. Note: Apart from being on an accrual basis, total expenditure differs from the GFSM 1986 definition of total expenditure in the sense that it also takes the disposals of nonfinancial assets into account.\t|Percent of GDP\t||\n",
    "GGXCNL|\tNet lending (+)/ borrowing (-) is calculated as revenue minus total expenditure. This is a core GFS balance that measures the extent to which general government is either putting financial resources at the disposal of other sectors in the economy and nonresidents (net lending), or utilizing the financial resources generated by other sectors and nonresidents (net borrowing). This balance may be viewed as an indicator of the financial impact of general government activity on the rest of the economy and nonresidents (GFSM 2001, paragraph 4.17). Note: Net lending (+)/borrowing (-) is also equal to net acquisition of financial assets minus net incurrence of liabilities.\t|National currency\t|Billions\n",
    "GGXCNL_NGDP|\tNet lending (+)/ borrowing (-) is calculated as revenue minus total expenditure. This is a core GFS balance that measures the extent to which general government is either putting financial resources at the disposal of other sectors in the economy and nonresidents (net lending), or utilizing the financial resources generated by other sectors and nonresidents (net borrowing). This balance may be viewed as an indicator of the financial impact of general government activity on the rest of the economy and nonresidents (GFSM 2001, paragraph 4.17). Note: Net lending (+)/borrowing (-) is also equal to net acquisition of financial assets minus net incurrence of liabilities.\t|Percent of GDP\t||\n",
    "GGSB|\tThe structural budget balance refers to the general government cyclically adjusted balance adjusted for nonstructural elements beyond the economic cycle. These include temporary financial sector and asset price movements as well as one-off, or temporary, revenue or expenditure items. The cyclically adjusted balance is the fiscal balance adjusted for the effects of the economic cycle; see, for example, A. Fedelino. A. Ivanova and M. Horton \"Computing Cyclically Adjusted Balances and Automatic Stabilizers\" IMF Technical Guidance Note No. 5, http://www.imf.org/external/pubs/ft/tnm/2009/tnm0905.pdf.\t|National currency\t|Billions\n",
    "GGSB_NPGDP|\tThe structural budget balance refers to the general government cyclically adjusted balance adjusted for nonstructural elements beyond the economic cycle. These include temporary financial sector and asset price movements as well as one-off, or temporary, revenue or expenditure items. The cyclically adjusted balance is the fiscal balance adjusted for the effects of the economic cycle; see, for example, A. Fedelino. A. Ivanova and M. Horton \"Computing Cyclically Adjusted Balances and Automatic Stabilizers\" IMF Technical Guidance Note No. 5, http://www.imf.org/external/pubs/ft/tnm/2009/tnm0905.pdf.\t|Percent of potential GDP||\t\n",
    "GGXONLB|\tPrimary net lending/borrowing is net lending (+)/borrowing (-) plus net interest payable/paid (interest expense minus interest revenue).\t|National currency\t|Billions\n",
    "GGXONLB_NGDP|\tPrimary net lending/borrowing is net lending (+)/borrowing (-) plus net interest payable/paid (interest expense minus interest revenue).\tPercent of GDP\t\n",
    "GGXWDN|\tNet debt is calculated as gross debt minus financial assets corresponding to debt instruments. These financial assets are: monetary gold and SDRs, currency and deposits, debt securities, loans, insurance, pension, and standardized guarantee schemes, and other accounts receivable.\t|National currency\t|Billions\n",
    "GGXWDN_NGDP|\tNet debt is calculated as gross debt minus financial assets corresponding to debt instruments. These financial assets are: monetary gold and SDRs, currency and deposits, debt securities, loans, insurance, pension, and standardized guarantee schemes, and other accounts receivable.\t|Percent of GDP\t||\n",
    "GGXWDG|\tGross debt consists of all liabilities that require payment or payments of interest and/or principal by the debtor to the creditor at a date or dates in the future. This includes debt liabilities in the form of SDRs, currency and deposits, debt securities, loans, insurance, pensions and standardized guarantee schemes, and other accounts payable. Thus, all liabilities in the GFSM 2001 system are debt, except for equity and investment fund shares and financial derivatives and employee stock options. Debt can be valued at current market, nominal, or face values (GFSM 2001, paragraph 7.110).|\tNational currency\t|Billions\n",
    "GGXWDG_NGDP|\tGross debt consists of all liabilities that require payment or payments of interest and/or principal by the debtor to the creditor at a date or dates in the future. This includes debt liabilities in the form of SDRs, currency and deposits, debt securities, loans, insurance, pensions and standardized guarantee schemes, and other accounts payable. Thus, all liabilities in the GFSM 2001 system are debt, except for equity and investment fund shares and financial derivatives and employee stock options. Debt can be valued at current market, nominal, or face values (GFSM 2001, paragraph 7.110).\t|Percent of GDP\t||\n",
    "NGDP_FY|\tGross domestic product corresponding to fiscal year is the country's GDP based on the same period during the year as their fiscal data. In the case of countries whose fiscal data are based on a fiscal calendar (e.g., July to June), this series would be the country's GDP over that same period. For countries whose fiscal data are based on a calendar year (i.e., January to December), this series will be the same as their GDP in current prices.\t|National currency\t|Billions\n",
    "BCA|\tCurrent account is all transactions other than those in financial and capital items. The major classifications are goods and services, income and current transfers. The focus of the BOP is on transactions (between an economy and the rest of the world) in goods, services, and income.\t|U.S. dollars\t|Billions\n",
    "BCA_NGDPD|\tCurrent account is all transactions other than those in financial and capital items. The major classifications are goods and services, income and current transfers. The focus of the BOP is on transactions (between an economy and the rest of the world) in goods, services, and income.|\tPercent of GDP||\t\n"
   ]
  },
  {
   "cell_type": "markdown",
   "id": "01f63091",
   "metadata": {},
   "source": [
    "Nota: esta base de datos como se observa contiene mucha información repetitiva y correlacionada, por lo cual en el scritp se filtran las variables para reducirlas lo mas posible."
   ]
  }
 ],
 "metadata": {
  "kernelspec": {
   "display_name": "Python 3",
   "language": "python",
   "name": "python3"
  },
  "language_info": {
   "codemirror_mode": {
    "name": "ipython",
    "version": 3
   },
   "file_extension": ".py",
   "mimetype": "text/x-python",
   "name": "python",
   "nbconvert_exporter": "python",
   "pygments_lexer": "ipython3",
   "version": "3.8.8"
  }
 },
 "nbformat": 4,
 "nbformat_minor": 5
}
