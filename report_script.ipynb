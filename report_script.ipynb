{
 "cells": [
  {
   "cell_type": "markdown",
   "id": "2f732504",
   "metadata": {},
   "source": [
    "# Graficas para Reporte"
   ]
  },
  {
   "cell_type": "code",
   "execution_count": 82,
   "id": "79968c2b",
   "metadata": {},
   "outputs": [],
   "source": [
    "import pandas as pd\n",
    "import plotly.express as px\n",
    "import seaborn as sns\n",
    "import matplotlib.pyplot as plt"
   ]
  },
  {
   "cell_type": "code",
   "execution_count": 3,
   "id": "46a252bd",
   "metadata": {},
   "outputs": [],
   "source": [
    "df = pd.read_csv('women_violence_eco.csv')"
   ]
  },
  {
   "cell_type": "code",
   "execution_count": 4,
   "id": "16a9406b",
   "metadata": {},
   "outputs": [
    {
     "data": {
      "text/html": [
       "<div>\n",
       "<style scoped>\n",
       "    .dataframe tbody tr th:only-of-type {\n",
       "        vertical-align: middle;\n",
       "    }\n",
       "\n",
       "    .dataframe tbody tr th {\n",
       "        vertical-align: top;\n",
       "    }\n",
       "\n",
       "    .dataframe thead th {\n",
       "        text-align: right;\n",
       "    }\n",
       "</style>\n",
       "<table border=\"1\" class=\"dataframe\">\n",
       "  <thead>\n",
       "    <tr style=\"text-align: right;\">\n",
       "      <th></th>\n",
       "      <th>Unnamed: 0</th>\n",
       "      <th>RPI_FGM_ATT</th>\n",
       "      <th>RPI_FGM_LAW</th>\n",
       "      <th>RPI_FGM_PRACT</th>\n",
       "      <th>RPI_MW_PRACT</th>\n",
       "      <th>RPI_RA_LAW</th>\n",
       "      <th>RPI_RA_PRACT</th>\n",
       "      <th>RPI_VAW_ATT</th>\n",
       "      <th>RPI_VAW_LAW</th>\n",
       "      <th>RPI_VAW_PRACT</th>\n",
       "      <th>...</th>\n",
       "      <th>PPPEX</th>\n",
       "      <th>PPPSH</th>\n",
       "      <th>TM_RPCH</th>\n",
       "      <th>TX_RPCH</th>\n",
       "      <th>Region_encode</th>\n",
       "      <th>Loc_encode</th>\n",
       "      <th>Inc_ordinal</th>\n",
       "      <th>LOCATION</th>\n",
       "      <th>Income</th>\n",
       "      <th>Region</th>\n",
       "    </tr>\n",
       "  </thead>\n",
       "  <tbody>\n",
       "    <tr>\n",
       "      <th>0</th>\n",
       "      <td>0</td>\n",
       "      <td>0.0</td>\n",
       "      <td>1.00</td>\n",
       "      <td>0.0</td>\n",
       "      <td>100.6</td>\n",
       "      <td>0.00</td>\n",
       "      <td>38.0</td>\n",
       "      <td>25.2</td>\n",
       "      <td>0.75</td>\n",
       "      <td>34.8</td>\n",
       "      <td>...</td>\n",
       "      <td>139.415</td>\n",
       "      <td>0.164</td>\n",
       "      <td>-11.380</td>\n",
       "      <td>-5.925</td>\n",
       "      <td>0</td>\n",
       "      <td>1</td>\n",
       "      <td>2</td>\n",
       "      <td>AGO</td>\n",
       "      <td>LWI</td>\n",
       "      <td>AFR</td>\n",
       "    </tr>\n",
       "    <tr>\n",
       "      <th>1</th>\n",
       "      <td>1</td>\n",
       "      <td>0.0</td>\n",
       "      <td>0.00</td>\n",
       "      <td>0.0</td>\n",
       "      <td>101.2</td>\n",
       "      <td>0.75</td>\n",
       "      <td>29.7</td>\n",
       "      <td>72.9</td>\n",
       "      <td>0.50</td>\n",
       "      <td>46.7</td>\n",
       "      <td>...</td>\n",
       "      <td>615.481</td>\n",
       "      <td>0.007</td>\n",
       "      <td>45.588</td>\n",
       "      <td>-15.813</td>\n",
       "      <td>0</td>\n",
       "      <td>10</td>\n",
       "      <td>1</td>\n",
       "      <td>BDI</td>\n",
       "      <td>LOI</td>\n",
       "      <td>AFR</td>\n",
       "    </tr>\n",
       "    <tr>\n",
       "      <th>2</th>\n",
       "      <td>2</td>\n",
       "      <td>3.4</td>\n",
       "      <td>0.25</td>\n",
       "      <td>9.2</td>\n",
       "      <td>103.1</td>\n",
       "      <td>0.50</td>\n",
       "      <td>33.1</td>\n",
       "      <td>36.0</td>\n",
       "      <td>0.50</td>\n",
       "      <td>68.6</td>\n",
       "      <td>...</td>\n",
       "      <td>208.557</td>\n",
       "      <td>0.030</td>\n",
       "      <td>-8.378</td>\n",
       "      <td>-12.058</td>\n",
       "      <td>0</td>\n",
       "      <td>12</td>\n",
       "      <td>1</td>\n",
       "      <td>BEN</td>\n",
       "      <td>LOI</td>\n",
       "      <td>AFR</td>\n",
       "    </tr>\n",
       "    <tr>\n",
       "      <th>3</th>\n",
       "      <td>3</td>\n",
       "      <td>9.3</td>\n",
       "      <td>0.25</td>\n",
       "      <td>75.8</td>\n",
       "      <td>103.5</td>\n",
       "      <td>0.50</td>\n",
       "      <td>29.1</td>\n",
       "      <td>43.5</td>\n",
       "      <td>0.75</td>\n",
       "      <td>11.5</td>\n",
       "      <td>...</td>\n",
       "      <td>203.083</td>\n",
       "      <td>0.034</td>\n",
       "      <td>-2.652</td>\n",
       "      <td>-0.052</td>\n",
       "      <td>0</td>\n",
       "      <td>13</td>\n",
       "      <td>1</td>\n",
       "      <td>BFA</td>\n",
       "      <td>LOI</td>\n",
       "      <td>AFR</td>\n",
       "    </tr>\n",
       "    <tr>\n",
       "      <th>4</th>\n",
       "      <td>4</td>\n",
       "      <td>0.0</td>\n",
       "      <td>0.00</td>\n",
       "      <td>0.0</td>\n",
       "      <td>102.1</td>\n",
       "      <td>0.25</td>\n",
       "      <td>9.6</td>\n",
       "      <td>0.0</td>\n",
       "      <td>0.75</td>\n",
       "      <td>0.0</td>\n",
       "      <td>...</td>\n",
       "      <td>4.547</td>\n",
       "      <td>0.029</td>\n",
       "      <td>11.939</td>\n",
       "      <td>-7.091</td>\n",
       "      <td>0</td>\n",
       "      <td>26</td>\n",
       "      <td>3</td>\n",
       "      <td>BWA</td>\n",
       "      <td>UMI</td>\n",
       "      <td>AFR</td>\n",
       "    </tr>\n",
       "  </tbody>\n",
       "</table>\n",
       "<p>5 rows × 31 columns</p>\n",
       "</div>"
      ],
      "text/plain": [
       "   Unnamed: 0  RPI_FGM_ATT  RPI_FGM_LAW  RPI_FGM_PRACT  RPI_MW_PRACT  \\\n",
       "0           0          0.0         1.00            0.0         100.6   \n",
       "1           1          0.0         0.00            0.0         101.2   \n",
       "2           2          3.4         0.25            9.2         103.1   \n",
       "3           3          9.3         0.25           75.8         103.5   \n",
       "4           4          0.0         0.00            0.0         102.1   \n",
       "\n",
       "   RPI_RA_LAW  RPI_RA_PRACT  RPI_VAW_ATT  RPI_VAW_LAW  RPI_VAW_PRACT  ...  \\\n",
       "0        0.00          38.0         25.2         0.75           34.8  ...   \n",
       "1        0.75          29.7         72.9         0.50           46.7  ...   \n",
       "2        0.50          33.1         36.0         0.50           68.6  ...   \n",
       "3        0.50          29.1         43.5         0.75           11.5  ...   \n",
       "4        0.25           9.6          0.0         0.75            0.0  ...   \n",
       "\n",
       "     PPPEX  PPPSH  TM_RPCH  TX_RPCH  Region_encode  Loc_encode  Inc_ordinal  \\\n",
       "0  139.415  0.164  -11.380   -5.925              0           1            2   \n",
       "1  615.481  0.007   45.588  -15.813              0          10            1   \n",
       "2  208.557  0.030   -8.378  -12.058              0          12            1   \n",
       "3  203.083  0.034   -2.652   -0.052              0          13            1   \n",
       "4    4.547  0.029   11.939   -7.091              0          26            3   \n",
       "\n",
       "   LOCATION  Income  Region  \n",
       "0       AGO     LWI     AFR  \n",
       "1       BDI     LOI     AFR  \n",
       "2       BEN     LOI     AFR  \n",
       "3       BFA     LOI     AFR  \n",
       "4       BWA     UMI     AFR  \n",
       "\n",
       "[5 rows x 31 columns]"
      ]
     },
     "execution_count": 4,
     "metadata": {},
     "output_type": "execute_result"
    }
   ],
   "source": [
    "df.head()"
   ]
  },
  {
   "cell_type": "code",
   "execution_count": 174,
   "id": "a81f7aa6",
   "metadata": {
    "scrolled": false
   },
   "outputs": [
    {
     "data": {
      "image/png": "[encoded data removed]",
      "text/plain": [
       "<Figure size 360x360 with 1 Axes>"
      ]
     },
     "metadata": {
      "needs_background": "light"
     },
     "output_type": "display_data"
    }
   ],
   "source": [
    "fig= sns.catplot(x=\"Income\", y=\"RPI_VAW_PRACT\", kind=\"bar\", data=df)\n",
    "plt.ylabel(\"Mujeres que han sufrido violencia %\")\n",
    "fig.savefig('mujeres_violentadas')"
   ]
  },
  {
   "cell_type": "code",
   "execution_count": 135,
   "id": "735a95f7",
   "metadata": {},
   "outputs": [
    {
     "data": {
      "text/plain": [
       "Region\n",
       "AFR    41.668750\n",
       "AME    10.775000\n",
       "ASI    27.369048\n",
       "EUR     7.610526\n",
       "Name: RPI_VAW_ATT, dtype: float64"
      ]
     },
     "execution_count": 135,
     "metadata": {},
     "output_type": "execute_result"
    }
   ],
   "source": [
    "df.groupby('Region')['RPI_VAW_ATT'].mean()"
   ]
  },
  {
   "cell_type": "code",
   "execution_count": 175,
   "id": "23696862",
   "metadata": {
    "scrolled": true
   },
   "outputs": [
    {
     "data": {
      "image/png": "[encoded data removed]",
      "text/plain": [
       "<Figure size 432x288 with 1 Axes>"
      ]
     },
     "metadata": {
      "needs_background": "light"
     },
     "output_type": "display_data"
    }
   ],
   "source": [
    "fig2= sns.regplot(x=\"GGR_NGDP\", y=\"RPI_VAW_ATT\", data=df)\n",
    "plt.xlabel(\"Gasto de gobirno como % del PIB\")\n",
    "plt.ylabel(\"Mujeres justifican la violencia %\")\n",
    "plt.savefig('violencia_justificada')"
   ]
  },
  {
   "cell_type": "code",
   "execution_count": 78,
   "id": "be65c51f",
   "metadata": {},
   "outputs": [],
   "source": [
    "LP_dir = {0:'Total_Protection',\n",
    "            0.25:'Protection',\n",
    "            0.5: 'Protection_Exep',\n",
    "            0.75:'Some_protection',\n",
    "          1:'No_Protection' }\n",
    "df['Law-protec'] = df.RPI_VAW_LAW.map(LP_dir)"
   ]
  },
  {
   "cell_type": "code",
   "execution_count": 173,
   "id": "003f6e73",
   "metadata": {
    "scrolled": false
   },
   "outputs": [
    {
     "data": {
      "text/plain": [
       "<Figure size 360x1080 with 0 Axes>"
      ]
     },
     "metadata": {},
     "output_type": "display_data"
    },
    {
     "data": {
      "image/png": "[encoded data removed]",
      "text/plain": [
       "<Figure size 360x360 with 1 Axes>"
      ]
     },
     "metadata": {
      "needs_background": "light"
     },
     "output_type": "display_data"
    }
   ],
   "source": [
    "plt.figure(figsize=(5,15))\n",
    "sns.catplot(y=\"Law-protec\", x=\"NGDPRPPPPC\", kind=\"bar\", data=df)\n",
    "plt.xlabel(\"PIB per capita\")\n",
    "plt.ylabel(\"Protección por parte de la ley\")\n",
    "plt.savefig('proteccion_leyes')"
   ]
  },
  {
   "cell_type": "code",
   "execution_count": 145,
   "id": "4747db58",
   "metadata": {},
   "outputs": [],
   "source": [
    "rep_dir = {0:'Total_Protection',\n",
    "            0.25:'Protection',\n",
    "            0.5: 'Protection_Exep',\n",
    "            0.75:'Some_protection',\n",
    "          1:'No_Protection' }\n",
    "df['reprod'] = df.RPI_RA_LAW.map(rep_dir)"
   ]
  },
  {
   "cell_type": "code",
   "execution_count": 171,
   "id": "aa5fa401",
   "metadata": {},
   "outputs": [
    {
     "data": {
      "text/plain": [
       "<Figure size 1440x1080 with 0 Axes>"
      ]
     },
     "metadata": {},
     "output_type": "display_data"
    },
    {
     "data": {
      "image/png": "[encoded data removed]",
      "text/plain": [
       "<Figure size 360x360 with 1 Axes>"
      ]
     },
     "metadata": {
      "needs_background": "light"
     },
     "output_type": "display_data"
    }
   ],
   "source": [
    "plt.figure(figsize=(20,15))\n",
    "sns.catplot(y=\"reprod\", x=\"NGDPRPPPPC\", kind=\"bar\", data=df)\n",
    "plt.ylabel(\"Proteccion de las leyes\")\n",
    "plt.xlabel(\"PIB per capita\")\n",
    "plt.savefig('proteccion_leyes_rep')"
   ]
  },
  {
   "cell_type": "code",
   "execution_count": 169,
   "id": "8a745f79",
   "metadata": {},
   "outputs": [
    {
     "data": {
      "text/plain": [
       "<Figure size 360x360 with 0 Axes>"
      ]
     },
     "metadata": {},
     "output_type": "display_data"
    },
    {
     "data": {
      "image/png": "[encoded data removed]",
      "text/plain": [
       "<Figure size 414.875x360 with 1 Axes>"
      ]
     },
     "metadata": {
      "needs_background": "light"
     },
     "output_type": "display_data"
    }
   ],
   "source": [
    "plt.figure(figsize=(5,5))\n",
    "sns.catplot(x=\"Region\", y=\"RPI_RA_PRACT\", kind=\"bar\", hue='Income', data=df)\n",
    "plt.ylabel(\"% Mujeres\")\n",
    "plt.savefig('salud_reproductiva')"
   ]
  },
  {
   "cell_type": "code",
   "execution_count": 6,
   "id": "110f2dd5",
   "metadata": {
    "scrolled": false
   },
   "outputs": [
    {
     "data": {
      "text/plain": [
       "<seaborn.axisgrid.FacetGrid at 0x1a499b507c0>"
      ]
     },
     "execution_count": 6,
     "metadata": {},
     "output_type": "execute_result"
    },
    {
     "data": {
      "image/png": "[encoded data removed]",
      "text/plain": [
       "<Figure size 360x360 with 1 Axes>"
      ]
     },
     "metadata": {
      "needs_background": "light"
     },
     "output_type": "display_data"
    }
   ],
   "source": [
    "\n",
    "sns.catplot(x=\"Income\", y=\"RPI_FGM_ATT\", kind=\"bar\", data=df).set(title='Muejeres que han escuchado hablar sobre Mutilacion Genital Femenina segun nivel de ingresos del pais')"
   ]
  }
 ],
 "metadata": {
  "kernelspec": {
   "display_name": "Python 3",
   "language": "python",
   "name": "python3"
  },
  "language_info": {
   "codemirror_mode": {
    "name": "ipython",
    "version": 3
   },
   "file_extension": ".py",
   "mimetype": "text/x-python",
   "name": "python",
   "nbconvert_exporter": "python",
   "pygments_lexer": "ipython3",
   "version": "3.8.8"
  }
 },
 "nbformat": 4,
 "nbformat_minor": 5
}
